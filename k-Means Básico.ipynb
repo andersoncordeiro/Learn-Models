{
 "cells": [
  {
   "cell_type": "markdown",
   "id": "ultimate-warning",
   "metadata": {},
   "source": [
    "# K-Means - Basic"
   ]
  },
  {
   "cell_type": "markdown",
   "id": "naughty-weapon",
   "metadata": {},
   "source": [
    "K-Means é um algoritmo de clusterização (ou agrupamento) disponível na biblioteca Scikit-Learn.\n",
    "É um algoritmo de aprendizado não supervisionado (ou seja, que não precisa de inputs de confirmação externos) que avalia e clusteriza os dados de acordo com suas características, como por exemplo:\n",
    "\n",
    "- lojas/centro logistico\n",
    "- clientes/produtos ou serviços semelhantes\n",
    "- clientes/características semelhantes\n",
    "- séries/gênero da série ou faixa etaria\n",
    "- usuarios de uma rede social/usuario influenciador\n",
    "- paciente/sintoma ou característica semelhante"
   ]
  },
  {
   "cell_type": "markdown",
   "id": "collaborative-thomson",
   "metadata": {},
   "source": [
    "#### Se eu tenho uma rede de lojas com abrangência nacional, qual seria os melhores lugares para construir os centros logísticos de abastecimento?"
   ]
  },
  {
   "cell_type": "markdown",
   "id": "major-juice",
   "metadata": {},
   "source": [
    "- Primeiro, preciso definir um ‘K’, ou seja, um número de clusters (ou agrupamentos).\n",
    "- Depois, preciso definir, aleatoriamente, um centroide para cada cluster.\n",
    "- O próximo passo é calcular, para cada ponto, o centroide de menor distância. Cada ponto pertencerá ao centroide mais próximo (lembrar do exemplo do CD logístico e das lojas: cada loja (ponto) deve ser atendida pelo CD (centróide) mais próximo)\n",
    "- Agora, devo reposicionar o centróide. A nova posição do centroide deve ser a média da posição de todos os pontos do cluster.\n",
    "- Os dois ultimos passos são repetidos, iterativamente, até obtermos a posição ideal dos centróides."
   ]
  },
  {
   "cell_type": "code",
   "execution_count": 104,
   "id": "communist-round",
   "metadata": {},
   "outputs": [],
   "source": [
    "import numpy as np #para manipular os vetores\n",
    "from matplotlib import pyplot as plt #para plotar os gráficos\n",
    "from sklearn.cluster import KMeans #para usar o KMeans"
   ]
  },
  {
   "cell_type": "code",
   "execution_count": 105,
   "id": "ahead-stake",
   "metadata": {},
   "outputs": [],
   "source": [
    "lojas = np.array(\n",
    "#matriz com as coordenadas geográficas de cada loja\n",
    "[[-25, -46], #são paulo\n",
    "[-22, -43], #rio de janeiro\n",
    "[-25, -49], #curitiba\n",
    "[-30, -51], #porto alegre\n",
    "[-19, -43], #belo horizonte\n",
    "[-15, -47], #brasilia\n",
    "[-12, -38], #salvador\n",
    "[-8, -34], #recife\n",
    "[-16, -49], #goiania\n",
    "[-3, -60], #manaus\n",
    "[-22, -47], #campinas\n",
    "[-3, -38], #fortaleza\n",
    "[-21, -47], #ribeirão preto\n",
    "[-23, -51], #maringa\n",
    "[-27, -48], #florianópolis\n",
    "[-21, -43], #juiz de fora\n",
    "[-1, -48], #belém\n",
    "[-10, -67], #rio branco\n",
    "[-8, -63]] #porto velho\n",
    ")"
   ]
  },
  {
   "cell_type": "code",
   "execution_count": 106,
   "id": "affiliated-insert",
   "metadata": {},
   "outputs": [
    {
     "data": {
      "image/png": "[encoded data removed]",
      "text/plain": [
       "<Figure size 432x288 with 1 Axes>"
      ]
     },
     "metadata": {
      "needs_background": "light"
     },
     "output_type": "display_data"
    }
   ],
   "source": [
    "plt.scatter(dataset[:,1], dataset[:,0]) #posicionamento dos eixos x e y\n",
    "plt.grid() #função que desenha a grade no nosso gráfico"
   ]
  },
  {
   "cell_type": "markdown",
   "id": "geographic-surgery",
   "metadata": {},
   "source": [
    "Parâmetros importantes:\n",
    "    \n",
    "- **n_clusters** se refere ao número de clusters que queremos gerar com os nossos dados. Por padrão se não especificamos um valor serão gerados 8 clusters, ou seja, nossos dados serão agrupados em oito diferentes grupos. Esse parâmetro é fundamental, temos que especificar conforme o nosso objetivo.\n",
    "\n",
    "- **init** se refere ao modo como o algoritmo será inicializado:\n",
    "        \n",
    "        k-means++: É o método padrão, e os centróides serão gerados utilizando um método inteligente que favorece a convergência. Infelizmente a documentação não deixa claro como funciona este modo.\n",
    "\n",
    "        random: Se refere ao modo de inicialização de forma aleatória, ou seja, os centróides iniciais serão gerados de forma totalmente aleatória sem um critério para seleção.\n",
    "\n",
    "        ndarray: onde podemos especificar um array de valores indicando qual seriam os centróides que o algoritmo deveria utilizar  para a inicialização.\n",
    "\n",
    "\n",
    "- **max_iter** se refere a quantidade máxima de vezes que o algoritmo irá executar, por padrão o valor é 300 iterações.\n",
    "\n",
    "- **n_jobs** podemos especificar quantos CPU´s iremos utilizar para executar o K-means. Podemos especificar a quantidade de CPU´s ou optar por não utilizar computação paralela.\n"
   ]
  },
  {
   "cell_type": "code",
   "execution_count": 107,
   "id": "natural-posting",
   "metadata": {},
   "outputs": [],
   "source": [
    "kmeans = KMeans(n_clusters = 3, #numero de clusters\n",
    "init = 'k-means++', n_init = 10, #algoritmo que define a posição dos clusters de maneira mais assertiva\n",
    "max_iter = 300)\n",
    "\n",
    "pred_y = kmeans.fit_predict(dataset)"
   ]
  },
  {
   "cell_type": "code",
   "execution_count": 108,
   "id": "nutritional-selection",
   "metadata": {},
   "outputs": [
    {
     "data": {
      "text/plain": [
       "array([[-22.16666667, -47.        ],\n",
       "       [ -6.        , -39.5       ],\n",
       "       [ -7.        , -63.33333333]])"
      ]
     },
     "execution_count": 108,
     "metadata": {},
     "output_type": "execute_result"
    }
   ],
   "source": [
    "kmeans.cluster_centers_"
   ]
  },
  {
   "cell_type": "code",
   "execution_count": 109,
   "id": "oriental-shanghai",
   "metadata": {},
   "outputs": [
    {
     "data": {
      "image/png": "[encoded data removed]",
      "text/plain": [
       "<Figure size 432x288 with 1 Axes>"
      ]
     },
     "metadata": {
      "needs_background": "light"
     },
     "output_type": "display_data"
    }
   ],
   "source": [
    "#numero máximo de iterações\n",
    "plt.scatter(dataset[:,1], dataset[:,0], c = pred_y) #posicionamento dos eixos x e y\n",
    "plt.grid() #função que desenha a grade no nosso gráfico\n",
    "plt.scatter(kmeans.cluster_centers_[:,1],kmeans.cluster_centers_[:,0], s = 70, c = 'red') #posição de cada centroide no gráfico\n",
    "plt.show()"
   ]
  },
  {
   "cell_type": "markdown",
   "id": "brief-commander",
   "metadata": {},
   "source": [
    "Talvez não fizesse sentido abrir um galpão para abastecer apenas 3 lojas. Quanto mais dados, mais assertiva seria a nossa resposta. Algums exemplos de dados que poderíamos cruzar, usando esses e outros algoritmos:\n",
    "- Custo de frete CD -> Loja\n",
    "- Custo de frete Fornecedor -> CD\n",
    "- Volume de vendas por loja\n",
    "- Faixa salarial por cidade\n",
    "- Preço do aluguel para abrir o galpão por cidade\n",
    "- Impostos municipais/Estaduais\n"
   ]
  },
  {
   "cell_type": "code",
   "execution_count": 98,
   "id": "according-residence",
   "metadata": {},
   "outputs": [],
   "source": [
    "novas_lojas = np.array(\n",
    "[\n",
    "[-25, -46], #são paulo\n",
    "[-25, -46], #são paulo\n",
    "[-25, -46], #são paulo\n",
    "[-25, -46], #são paulo\n",
    "[-25, -46], #são paulo\n",
    "[-25, -46], #são paulo\n",
    "[-25, -46], #são paulo\n",
    "[-25, -46], #são paulo\n",
    "[-25, -46], #são paulo\n",
    "[-25, -46], #são paulo\n",
    "[-25, -46], #são paulo\n",
    "[-25, -46], #são paulo\n",
    "[-25, -46], #são paulo\n",
    "[-25, -46], #são paulo\n",
    "[-25, -46], #são paulo\n",
    "[-25, -46], #são paulo\n",
    "[-25, -46], #são paulo\n",
    "[-25, -46], #são paulo\n",
    "[-25, -46], #são paulo\n",
    "[-25, -46], #são paulo\n",
    "[-25, -46], #são paulo\n",
    "[-22, -43], #rio de janeiro\n",
    "[-22, -43], #rio de janeiro\n",
    "[-22, -43], #rio de janeiro\n",
    "[-22, -43], #rio de janeiro\n",
    "[-22, -43], #rio de janeiro\n",
    "[-22, -43], #rio de janeiro\n",
    "[-22, -43], #rio de janeiro\n",
    "[-22, -43], #rio de janeiro\n",
    "[-22, -43], #rio de janeiro\n",
    "[-22, -43], #rio de janeiro\n",
    "[-22, -43], #rio de janeiro\n",
    "[-22, -43], #rio de janeiro\n",
    "[-25, -49], #curitiba\n",
    "[-25, -49], #curitiba\n",
    "[-25, -49], #curitiba\n",
    "[-25, -49], #curitiba\n",
    "[-25, -49], #curitiba\n",
    "[-25, -49], #curitiba\n",
    "[-30, -51], #porto alegre\n",
    "[-30, -51], #porto alegre\n",
    "[-30, -51], #porto alegre\n",
    "[-19, -43], #belo horizonte\n",
    "[-19, -43], #belo horizonte\n",
    "[-19, -43], #belo horizonte\n",
    "[-19, -43], #belo horizonte\n",
    "[-19, -43], #belo horizonte\n",
    "[-19, -43], #belo horizonte\n",
    "[-19, -43], #belo horizonte\n",
    "[-19, -43], #belo horizonte\n",
    "[-15, -47], #brasilia\n",
    "[-15, -47], #brasilia\n",
    "[-15, -47], #brasilia\n",
    "[-15, -47], #brasilia\n",
    "[-15, -47], #brasilia\n",
    "[-15, -47], #brasilia\n",
    "[-12, -38], #salvador\n",
    "[-12, -38], #salvador\n",
    "[-12, -38], #salvador\n",
    "[-8, -34], #recife\n",
    "[-8, -34], #recife\n",
    "[-8, -34], #recife\n",
    "[-16, -49], #goiania\n",
    "[-16, -49], #goiania\n",
    "[-3, -60], #manaus\n",
    "[-3, -60], #manaus\n",
    "[-3, -60], #manaus\n",
    "[-3, -60], #manaus\n",
    "[-22, -47], #campinas\n",
    "[-22, -47], #campinas\n",
    "[-3, -38], #fortaleza\n",
    "[-3, -38], #fortaleza\n",
    "[-3, -38], #fortaleza\n",
    "[-3, -38], #fortaleza\n",
    "[-3, -38], #fortaleza\n",
    "[-3, -38], #fortaleza\n",
    "[-21, -47], #ribeirão preto\n",
    "[-23, -51], #maringa\n",
    "[-27, -48], #florianópolis\n",
    "[-27, -48], #florianópolis\n",
    "[-21, -43], #juiz de fora\n",
    "[-1, -48], #belém\n",
    "[-1, -48], #belém\n",
    "[-1, -48], #belém\n",
    "[-1, -48], #belém\n",
    "[-10, -67], #rio branco\n",
    "[-8, -63] #porto velho\n",
    "]\n",
    ")"
   ]
  },
  {
   "cell_type": "code",
   "execution_count": 99,
   "id": "expired-midwest",
   "metadata": {},
   "outputs": [
    {
     "data": {
      "image/png": "[encoded data removed]",
      "text/plain": [
       "<Figure size 432x288 with 1 Axes>"
      ]
     },
     "metadata": {
      "needs_background": "light"
     },
     "output_type": "display_data"
    }
   ],
   "source": [
    "plt.scatter(novas_lojas[:,1], novas_lojas[:,0]) #posicionamento dos eixos x e y\n",
    "plt.grid() #função que desenha a grade no nosso gráfico"
   ]
  },
  {
   "cell_type": "markdown",
   "id": "modern-matter",
   "metadata": {},
   "source": [
    "### ‘K-means++’ vs ‘random’ e a aleatoriedade\n",
    "\n",
    "Como dissemos no inicio, quando usamos k-means, o algoritmo, desde o início, define os melhores pontos de iniciação dos centróides. Para porvar isso, vamos reiniciar nosso algoritmo usando 'random' dessa vez.\n",
    "\n",
    "\n",
    "Abaixo vou usar uma única iteração, para que você possa ver de onde nossos centróides podem partir. Lembrando que random os lança aleatoriamente, ou seja, para cada vez que você rodar essa célula, ele vai iniciar de um lugar diferente."
   ]
  },
  {
   "cell_type": "code",
   "execution_count": 100,
   "id": "metallic-arctic",
   "metadata": {},
   "outputs": [],
   "source": [
    "kmeans = KMeans(n_clusters = 3, #numero de clusters\n",
    "init ='random', n_init = 10, #algoritmo que define a posição dos clusters de maneira mais assertiva\n",
    "max_iter = 1) #numero máximo de iterações\n",
    "pred_y = kmeans.fit_predict(novas_lojas)"
   ]
  },
  {
   "cell_type": "code",
   "execution_count": 101,
   "id": "electrical-kentucky",
   "metadata": {},
   "outputs": [
    {
     "data": {
      "text/plain": [
       "array([[-22.55384615, -45.90769231],\n",
       "       [ -5.        , -61.66666667],\n",
       "       [ -5.125     , -39.75      ]])"
      ]
     },
     "execution_count": 101,
     "metadata": {},
     "output_type": "execute_result"
    }
   ],
   "source": [
    "kmeans.cluster_centers_"
   ]
  },
  {
   "cell_type": "code",
   "execution_count": 102,
   "id": "acute-lesson",
   "metadata": {},
   "outputs": [
    {
     "data": {
      "image/png": "[encoded data removed]",
      "text/plain": [
       "<Figure size 432x288 with 1 Axes>"
      ]
     },
     "metadata": {
      "needs_background": "light"
     },
     "output_type": "display_data"
    }
   ],
   "source": [
    "plt.scatter(novas_lojas[:,1], novas_lojas[:,0], c = pred_y) #posicionamento dos eixos x e y\n",
    "plt.grid() #função que desenha a grade no nosso gráfico\n",
    "plt.scatter(kmeans.cluster_centers_[:,1],kmeans.cluster_centers_[:,0], s = 70, c = 'red') #posição de cada centroide no gráfico\n",
    "plt.show()"
   ]
  },
  {
   "cell_type": "markdown",
   "id": "light-assumption",
   "metadata": {},
   "source": [
    "mas o que importa é que depois de um número de iterações, ele vai achar o nosso ponto ótimo.\n",
    "\n",
    "Para o exemplo abaixo, vou definir 100 iterações:"
   ]
  },
  {
   "cell_type": "code",
   "execution_count": 91,
   "id": "white-amino",
   "metadata": {},
   "outputs": [
    {
     "name": "stderr",
     "output_type": "stream",
     "text": [
      "/home/anderson/.local/lib/python3.6/site-packages/sklearn/cluster/_kmeans.py:1105: ConvergenceWarning: Number of distinct clusters (1) found smaller than n_clusters (3). Possibly due to duplicate points in X.\n",
      "  return self.fit(X, sample_weight=sample_weight).labels_\n"
     ]
    },
    {
     "data": {
      "image/png": "[encoded data removed]",
      "text/plain": [
       "<Figure size 432x288 with 1 Axes>"
      ]
     },
     "metadata": {
      "needs_background": "light"
     },
     "output_type": "display_data"
    }
   ],
   "source": [
    "kmeans = KMeans(n_clusters = 3, #numero de clusters\n",
    "init = 'random', n_init = 10, #algoritmo que define a posição dos clusters de maneira mais assertiva\n",
    "max_iter = 100) #numero máximo de iterações\n",
    "pred_y = kmeans.fit_predict(novas_lojas)\n",
    "plt.scatter(novas_lojas[:,1], novas_lojas[:,0]) #posicionamento dos eixos x e y\n",
    "plt.grid() #função que desenha a grade no nosso gráfico\n",
    "plt.scatter(kmeans.cluster_centers_[:,1],kmeans.cluster_centers_[:,0], s = 70, c = 'red') #posição de cada centroide no gráfico\n",
    "plt.show()"
   ]
  },
  {
   "cell_type": "markdown",
   "id": "skilled-meter",
   "metadata": {},
   "source": [
    "Aqui ainda ficou faltando tratar algumas situações, com por exemplo:\n",
    "\n",
    "- Como escolher o número de clusters (método elbow)\n",
    "- Como calcular a distância entre os dados: distância euclidiana\n",
    "- Qual é a condição de parada ideal (nada de loop infinito)"
   ]
  },
  {
   "cell_type": "markdown",
   "id": "alleged-stomach",
   "metadata": {},
   "source": [
    "### Método Elbow\n"
   ]
  },
  {
   "cell_type": "markdown",
   "id": "extensive-worst",
   "metadata": {},
   "source": [
    "O método Elbow se trata de uma técnica interessante para encontrar o valor ideal do parâmetro k.\n",
    "Basicamente o que o método faz é testar a variância dos dados em relação ao número de clusters.\n",
    "É considerado um valor ideal de k quando o aumento no número de clusters não representa um valor significativo de ganho.\n",
    "Para ficar mais fácil e claro o entendimento vamos plotar um gráfico e observar o cotovelo (Elbow) se formando."
   ]
  },
  {
   "cell_type": "code",
   "execution_count": 88,
   "id": "capital-mistake",
   "metadata": {},
   "outputs": [
    {
     "data": {
      "image/png": "[encoded data removed]",
      "text/plain": [
       "<Figure size 432x288 with 1 Axes>"
      ]
     },
     "metadata": {
      "needs_background": "light"
     },
     "output_type": "display_data"
    }
   ],
   "source": [
    "erros = []\n",
    "\n",
    "for i in range(1, 11):\n",
    "    kmeans = KMeans(n_clusters = i, init = 'random')\n",
    "    kmeans.fit(novas_lojas)\n",
    "    erros.append(kmeans.inertia_)  \n",
    "    \n",
    "plt.plot(range(1, 11), wcss)\n",
    "plt.title('O Metodo Elbow')\n",
    "plt.xlabel('Numero de Clusters')\n",
    "plt.ylabel('erros')\n",
    "plt.show()\n"
   ]
  },
  {
   "cell_type": "markdown",
   "id": "bizarre-soccer",
   "metadata": {},
   "source": [
    "No código acima plotamos o somatório da variância dos dados em relação ao número de clusters para conseguir verificar até que ponto com o aumento do número de clusters não existe ganho.\n",
    "\n",
    "Observe que a partir do número de três clusters as distâncias dos erros quadráticos praticamente se estabiliza.\n",
    "\n",
    "Neste ponto que seria o “cotovelo”, ou seja, a partir desse ponto que não existe uma discrepância tão significativa em termos de variância.\n",
    "\n",
    "Veja a listagem dos valores do atributo inertia_ que corresponde ao somatório dos erros quadráticos das instâncias de cada cluster."
   ]
  },
  {
   "cell_type": "code",
   "execution_count": 89,
   "id": "retired-processor",
   "metadata": {},
   "outputs": [
    {
     "data": {
      "text/plain": [
       "[9144.689655172415,\n",
       " 4131.689510489512,\n",
       " 2035.5910256410257,\n",
       " 1319.6452380952385,\n",
       " 1028.3573593073593,\n",
       " 574.6073593073594,\n",
       " 493.274025974026,\n",
       " 334.274025974026,\n",
       " 215.52597402597402,\n",
       " 204.7634669678148]"
      ]
     },
     "execution_count": 89,
     "metadata": {},
     "output_type": "execute_result"
    }
   ],
   "source": [
    "erros"
   ]
  },
  {
   "cell_type": "markdown",
   "id": "modified-delhi",
   "metadata": {},
   "source": [
    "Observando os valores na listagem acima podemos ver claramente que a partir do número de três clusters não temos uma diminuição tão expressiva.\n",
    "\n",
    "Como mostrado acima, o método Elbow é simples e pode ajudar a determinar o melhor valor para o parâmetro k.\n",
    "\n",
    "É sempre bom lembrar que a escolha do parâmetro K é de extrema importância para a tarefa de agrupamento e deve ser corretamente alinhado com as regras do negócio ou problema que esteja resolvendo."
   ]
  },
  {
   "cell_type": "markdown",
   "id": "together-casino",
   "metadata": {},
   "source": [
    "#### Novos dados"
   ]
  },
  {
   "cell_type": "code",
   "execution_count": 103,
   "id": "italian-somerset",
   "metadata": {},
   "outputs": [
    {
     "data": {
      "text/plain": [
       "array([0, 0, 0], dtype=int32)"
      ]
     },
     "execution_count": 103,
     "metadata": {},
     "output_type": "execute_result"
    }
   ],
   "source": [
    "novas_lojas = np.array(\n",
    "[\n",
    "[-25, -46], #são paulo\n",
    "[-25, -46], #são paulo\n",
    "[-25, -46], #são paulo\n",
    "])    \n",
    "\n",
    "kmeans.predict(novas_lojas)\n"
   ]
  },
  {
   "cell_type": "code",
   "execution_count": null,
   "id": "adopted-persian",
   "metadata": {},
   "outputs": [],
   "source": []
  }
 ],
 "metadata": {
  "kernelspec": {
   "display_name": "Python 3",
   "language": "python",
   "name": "python3"
  },
  "language_info": {
   "codemirror_mode": {
    "name": "ipython",
    "version": 3
   },
   "file_extension": ".py",
   "mimetype": "text/x-python",
   "name": "python",
   "nbconvert_exporter": "python",
   "pygments_lexer": "ipython3",
   "version": "3.6.9"
  }
 },
 "nbformat": 4,
 "nbformat_minor": 5
}
