{
 "cells": [
  {
   "cell_type": "code",
   "execution_count": 1,
   "id": "generic-baking",
   "metadata": {},
   "outputs": [],
   "source": [
    "from sklearn import datasets"
   ]
  },
  {
   "cell_type": "code",
   "execution_count": 2,
   "id": "empty-accreditation",
   "metadata": {},
   "outputs": [],
   "source": [
    "cancer = datasets.load_breast_cancer()\n"
   ]
  },
  {
   "cell_type": "code",
   "execution_count": 3,
   "id": "deadly-mission",
   "metadata": {},
   "outputs": [
    {
     "name": "stdout",
     "output_type": "stream",
     "text": [
      "Features:  ['mean radius' 'mean texture' 'mean perimeter' 'mean area'\n",
      " 'mean smoothness' 'mean compactness' 'mean concavity'\n",
      " 'mean concave points' 'mean symmetry' 'mean fractal dimension'\n",
      " 'radius error' 'texture error' 'perimeter error' 'area error'\n",
      " 'smoothness error' 'compactness error' 'concavity error'\n",
      " 'concave points error' 'symmetry error' 'fractal dimension error'\n",
      " 'worst radius' 'worst texture' 'worst perimeter' 'worst area'\n",
      " 'worst smoothness' 'worst compactness' 'worst concavity'\n",
      " 'worst concave points' 'worst symmetry' 'worst fractal dimension']\n"
     ]
    }
   ],
   "source": [
    "print(\"Features: \", cancer.feature_names)\n"
   ]
  },
  {
   "cell_type": "code",
   "execution_count": 4,
   "id": "naughty-heath",
   "metadata": {},
   "outputs": [
    {
     "name": "stdout",
     "output_type": "stream",
     "text": [
      "Labels:  ['malignant' 'benign']\n"
     ]
    }
   ],
   "source": [
    "print(\"Labels: \", cancer.target_names)\n"
   ]
  },
  {
   "cell_type": "code",
   "execution_count": 9,
   "id": "configured-vietnamese",
   "metadata": {},
   "outputs": [],
   "source": [
    "from sklearn.model_selection import train_test_split\n",
    "\n",
    "# Split dataset into training set and test set\n",
    "X_train, X_test, y_train, y_test = train_test_split(cancer.data, cancer.target, test_size=0.3,random_state=0) # 70% training and 30% test"
   ]
  },
  {
   "cell_type": "code",
   "execution_count": 10,
   "id": "exposed-order",
   "metadata": {},
   "outputs": [],
   "source": [
    "#Import svm model\n",
    "from sklearn import svm\n",
    "\n",
    "#Create a svm Classifier\n",
    "clf = svm.SVC(kernel='linear') # Linear Kernel\n",
    "\n",
    "#Train the model using the training sets\n",
    "clf.fit(X_train, y_train)\n",
    "\n",
    "#Predict the response for test dataset\n",
    "y_pred = clf.predict(X_test)"
   ]
  },
  {
   "cell_type": "code",
   "execution_count": 11,
   "id": "designed-musical",
   "metadata": {},
   "outputs": [
    {
     "name": "stdout",
     "output_type": "stream",
     "text": [
      "Accuracy: 0.9590643274853801\n"
     ]
    }
   ],
   "source": [
    "#Import scikit-learn metrics module for accuracy calculation\n",
    "from sklearn import metrics\n",
    "\n",
    "# Model Accuracy: how often is the classifier correct?\n",
    "print(\"Accuracy:\",metrics.accuracy_score(y_test, y_pred))"
   ]
  },
  {
   "cell_type": "code",
   "execution_count": 13,
   "id": "desirable-northwest",
   "metadata": {},
   "outputs": [
    {
     "name": "stdout",
     "output_type": "stream",
     "text": [
      "Precision: 0.9809523809523809\n",
      "Recall: 0.9537037037037037\n",
      "F1: 0.9671361502347416\n"
     ]
    }
   ],
   "source": [
    "# Model Precision: what percentage of positive tuples are labeled as such?\n",
    "print(\"Precision:\",metrics.precision_score(y_test, y_pred))\n",
    "\n",
    "# Model Recall: what percentage of positive tuples are labelled as such?\n",
    "print(\"Recall:\",metrics.recall_score(y_test, y_pred))\n",
    "\n",
    "\n",
    "# Model Recall: what percentage of positive tuples are labelled as such?\n",
    "print(\"F1:\",metrics.f1_score(y_test, y_pred))"
   ]
  },
  {
   "cell_type": "markdown",
   "id": "bronze-truck",
   "metadata": {},
   "source": [
    "#### Acurácia: \n",
    "ndica uma performance geral do modelo. Dentre todas as classificações, quantas o modelo classificou corretamente;\n",
    "\n",
    "#### Precisão: \n",
    "dentre todas as classificações de classe Positivo que o modelo fez, quantas estão corretas;\n",
    "\n",
    "#### Recall:\n",
    "dentre todas as situações de classe Positivo como valor esperado, quantas estão corretas;\n",
    "\n",
    "#### F1-Score: \n",
    "média harmônica entre precisão e recall.\n",
    "\n",
    "A escolha pelo uso da média harmônica para representação da média de um conjunto está ligada a situações que envolvem grandezas inversamente proporcionais, por exemplo a velocidade média, a vazão da água, a densidade, entre outras aplicações na física e na química\n",
    "\n",
    "Suponha que, em uma determinada viagem, um carro desenvolva duas velocidades distintas, durante a metade do percurso ele manteve a velocidade de 50 km/h e durante a metade restante sua velocidade foi de 60 km/h. Vamos determinar a velocidade média do veículo durante o percurso.\n",
    "\n",
    "Caso calculássemos a velocidade média utilizando a média aritmética chegaríamos ao resultado de 55 km/h. Esse valor demonstra que a velocidade e o tempo de percurso nos dois trechos seriam iguais. Mas precisamos considerar que no primeiro trecho o automóvel levou um tempo maior para o percurso, pois a velocidade era de 50 km/h e no segundo trecho o tempo decorrido foi menor, devido à velocidade de 60 km/h.\n",
    "\n",
    "\n",
    "### Quando usar cada uma?\n",
    "A acurácia é uma boa indicação geral de como o modelo performou. Porém, pode haver situações em que ela é enganosa. Por exemplo, na criação de um modelo de identificação de fraudes em cartões de crédito, o número de casos considerados como fraude pode ser bem pequeno em relação ao número de casos considerados legais. Para colocar em números, em uma situação hipotética de 280000 casos legais e 2000 casos fraudulentos, um modelo simplório que simplesmente classifica tudo como legal obteria uma acurácia de 99,3%. Ou seja, você estaria validando como ótimo um modelo que falha em detectar fraudes.\n",
    "\n",
    "\n",
    "\n",
    "A precisão pode ser usada em uma situação em que os Falsos Positivos são considerados mais prejudiciais que os Falsos Negativos. Por exemplo, ao classificar uma ação como um bom investimento, é necessário que o modelo esteja correto, mesmo que acabe classificando bons investimentos como maus investimentos (situação de Falso Negativo) no processo. Ou seja, o modelo deve ser preciso em suas classificações, pois a partir do momento que consideramos um investimento bom quando na verdade ele não é, uma grande perda de dinheiro pode acontecer.\n",
    "\n",
    "\n",
    "\n",
    "O recall pode ser usada em uma situação em que os Falsos Negativos são considerados mais prejudiciais que os Falsos Positivos. Por exemplo, o modelo deve de qualquer maneira encontrar todos os pacientes doentes, mesmo que classifique alguns saudáveis como doentes (situação de Falso Positivo) no processo. Ou seja, o modelo deve ter alto recall, pois classificar pacientes doentes como saudáveis pode ser uma tragédia.\n",
    "\n",
    "\n",
    "O F1-Score é simplesmente uma maneira de observar somente 1 métrica ao invés de duas (precisão e recall) em alguma situação. É uma média harmônica entre as duas, que está muito mais próxima dos menores valores do que uma média aritmética simples. Ou seja, quando tem-se um F1-Score baixo, é um indicativo de que ou a precisão ou o recall está baixo."
   ]
  },
  {
   "cell_type": "markdown",
   "id": "mighty-gender",
   "metadata": {},
   "source": [
    "### Ajuste de hiperparâmetros\n",
    "\n",
    "#### Kernel: \n",
    "A principal função do kernel é transformar os dados de entrada do conjunto de dados fornecidos na forma necessária. Existem vários tipos de funções, como função de base linear, polinomial e radial (RBF). Polinomial e RBF são úteis para hiperplano não linear. Os núcleos polinomiais e RBF calculam a linha de separação na dimensão superior. Em alguns dos aplicativos, é sugerido o uso de um kernel mais complexo para separar as classes que são curvas ou não lineares. Essa transformação pode levar a classificadores mais precisos.\n",
    "\n",
    "\n",
    "#### Regularização:\n",
    "parâmetro de regularização no parâmetro Scikit-learn C do python usado para manter a regularização. Aqui, C é o parâmetro de penalidade, que representa classificação incorreta ou termo de erro. A classificação incorreta ou o termo de erro informa à otimização do SVM a quantidade de erro suportável. É assim que você pode controlar a compensação entre o limite de decisão e o termo de classificação incorreta. Um valor menor de C cria um hiperplano de margem pequena e um valor maior de C cria um hiperplano de margem maior.\n",
    "\n",
    "\n",
    "#### Gama: \n",
    "um valor mais baixo de Gama se ajustará livremente ao conjunto de dados de treinamento, enquanto um valor mais alto de gama se ajustará exatamente ao conjunto de dados de treinamento, o que causa um ajuste excessivo. Em outras palavras, você pode dizer que um valor baixo de gama considera apenas os pontos próximos no cálculo da linha de separação, enquanto o valor a de gama considera todos os pontos de dados no cálculo da linha de separação."
   ]
  },
  {
   "cell_type": "markdown",
   "id": "electric-better",
   "metadata": {},
   "source": [
    "### Vantagens\n",
    "Os classificadores SVM oferecem boa precisão e realizam predições mais rápidas em comparação com o algoritmo Naïve Bayes. Eles também usam menos memória porque usam um subconjunto de pontos de treinamento na fase de decisão. O SVM funciona bem com uma clara margem de separação e com grande espaço dimensional.\n",
    "\n",
    "### Desvantagens\n",
    "O SVM não é adequado para grandes conjuntos de dados devido ao seu alto tempo de treinamento e também leva mais tempo no treinamento do que o Naïve Bayes. Ele funciona mal com classes sobrepostas e também é sensível ao tipo de kernel usado."
   ]
  },
  {
   "cell_type": "code",
   "execution_count": null,
   "id": "stock-confusion",
   "metadata": {},
   "outputs": [],
   "source": []
  }
 ],
 "metadata": {
  "kernelspec": {
   "display_name": "Python 3",
   "language": "python",
   "name": "python3"
  },
  "language_info": {
   "codemirror_mode": {
    "name": "ipython",
    "version": 3
   },
   "file_extension": ".py",
   "mimetype": "text/x-python",
   "name": "python",
   "nbconvert_exporter": "python",
   "pygments_lexer": "ipython3",
   "version": "3.6.9"
  }
 },
 "nbformat": 4,
 "nbformat_minor": 5
}
