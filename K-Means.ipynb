{
 "cells": [
  {
   "cell_type": "code",
   "execution_count": 2,
   "id": "removable-gentleman",
   "metadata": {},
   "outputs": [],
   "source": [
    "import numpy as np\n",
    "from matplotlib import pyplot as plt\n",
    "from sklearn.cluster import KMeans"
   ]
  },
  {
   "cell_type": "code",
   "execution_count": 3,
   "id": "allied-license",
   "metadata": {},
   "outputs": [],
   "source": [
    "lojas = np.array([\n",
    "        [-25, -46],\n",
    "        [-22, -43]\n",
    "]\n",
    ")"
   ]
  },
  {
   "cell_type": "code",
   "execution_count": 4,
   "id": "apparent-defeat",
   "metadata": {},
   "outputs": [
    {
     "name": "stdout",
     "output_type": "stream",
     "text": [
      "[[-25 -46]\n",
      " [-22 -43]]\n"
     ]
    }
   ],
   "source": [
    "print(lojas)"
   ]
  },
  {
   "cell_type": "code",
   "execution_count": 10,
   "id": "decimal-queensland",
   "metadata": {},
   "outputs": [
    {
     "name": "stdout",
     "output_type": "stream",
     "text": [
      "[[-25 -46]\n",
      " [-22 -43]]\n"
     ]
    }
   ],
   "source": [
    "print(lojas)"
   ]
  },
  {
   "cell_type": "code",
   "execution_count": 12,
   "id": "serious-tuition",
   "metadata": {},
   "outputs": [],
   "source": [
    "#matriz com as coordenadas geográficas de cada loja\n",
    "\n",
    "lojas = np.array([\n",
    "    [-25, -46], #são paulo\n",
    "    [-22, -43], #rio de janeiro\n",
    "    [-25, -49], #curitiba\n",
    "    [-30, -51], #porto alegre\n",
    "    [-19, -43], #belo horizonte\n",
    "    [-15, -47], #brasilia\n",
    "    [-12, -38], #salvador\n",
    "    [-8, -34], #recife\n",
    "    [-16, -49], #goiania\n",
    "    [-3, -60], #manaus\n",
    "    [-22, -47], #campinas\n",
    "    [-3, -38], #fortaleza\n",
    "    [-21, -47], #ribeirão preto\n",
    "    [-23, -51], #maringa\n",
    "    [-27, -48], #florianópolis\n",
    "    [-21, -43], #juiz de fora\n",
    "    [-1, -48], #belém\n",
    "    [-10, -67], #rio branco\n",
    "    [-8, -63] #porto velho\n",
    "])"
   ]
  },
  {
   "cell_type": "code",
   "execution_count": 13,
   "id": "super-yield",
   "metadata": {},
   "outputs": [
    {
     "name": "stdout",
     "output_type": "stream",
     "text": [
      "[[-25 -46]\n",
      " [-22 -43]\n",
      " [-25 -49]\n",
      " [-30 -51]\n",
      " [-19 -43]\n",
      " [-15 -47]\n",
      " [-12 -38]\n",
      " [ -8 -34]\n",
      " [-16 -49]\n",
      " [ -3 -60]\n",
      " [-22 -47]\n",
      " [ -3 -38]\n",
      " [-21 -47]\n",
      " [-23 -51]\n",
      " [-27 -48]\n",
      " [-21 -43]\n",
      " [ -1 -48]\n",
      " [-10 -67]\n",
      " [ -8 -63]]\n"
     ]
    }
   ],
   "source": [
    "print(lojas)"
   ]
  },
  {
   "cell_type": "code",
   "execution_count": 15,
   "id": "independent-plaza",
   "metadata": {},
   "outputs": [
    {
     "data": {
      "image/png": "[encoded data removed]",
      "text/plain": [
       "<Figure size 432x288 with 1 Axes>"
      ]
     },
     "metadata": {
      "needs_background": "light"
     },
     "output_type": "display_data"
    }
   ],
   "source": [
    "plt.scatter(lojas[:,1], lojas[:,0])\n",
    "plt.grid()"
   ]
  },
  {
   "cell_type": "code",
   "execution_count": 79,
   "id": "failing-phone",
   "metadata": {},
   "outputs": [],
   "source": [
    "kmeans = KMeans(n_clusters=4, init='k-means++', n_init=10, max_iter = 300)"
   ]
  },
  {
   "cell_type": "code",
   "execution_count": 80,
   "id": "another-juvenile",
   "metadata": {},
   "outputs": [],
   "source": [
    "pred_y = kmeans.fit_predict(lojas)"
   ]
  },
  {
   "cell_type": "code",
   "execution_count": 81,
   "id": "married-accordance",
   "metadata": {},
   "outputs": [
    {
     "data": {
      "text/plain": [
       "array([3, 1, 3, 3, 1, 1, 0, 0, 1, 2, 1, 0, 1, 3, 3, 1, 0, 2, 2],\n",
       "      dtype=int32)"
      ]
     },
     "execution_count": 81,
     "metadata": {},
     "output_type": "execute_result"
    }
   ],
   "source": [
    "pred_y"
   ]
  },
  {
   "cell_type": "code",
   "execution_count": 82,
   "id": "excellent-tradition",
   "metadata": {},
   "outputs": [
    {
     "data": {
      "text/plain": [
       "array([[ -6.        , -39.5       ],\n",
       "       [-19.42857143, -45.57142857],\n",
       "       [ -7.        , -63.33333333],\n",
       "       [-26.        , -49.        ]])"
      ]
     },
     "execution_count": 82,
     "metadata": {},
     "output_type": "execute_result"
    }
   ],
   "source": [
    "kmeans.cluster_centers_"
   ]
  },
  {
   "cell_type": "code",
   "execution_count": 83,
   "id": "incoming-butter",
   "metadata": {},
   "outputs": [
    {
     "data": {
      "text/plain": [
       "<matplotlib.collections.PathCollection at 0x7f6e291154e0>"
      ]
     },
     "execution_count": 83,
     "metadata": {},
     "output_type": "execute_result"
    },
    {
     "data": {
      "image/png": "[encoded data removed]",
      "text/plain": [
       "<Figure size 432x288 with 1 Axes>"
      ]
     },
     "metadata": {
      "needs_background": "light"
     },
     "output_type": "display_data"
    }
   ],
   "source": [
    "plt.scatter(lojas[:,1], lojas[:,0], c = pred_y)\n",
    "plt.grid()\n",
    "plt.scatter(kmeans.cluster_centers_[:,1], kmeans.cluster_centers_[:,0], c = 'red')"
   ]
  },
  {
   "cell_type": "code",
   "execution_count": 68,
   "id": "uniform-theory",
   "metadata": {},
   "outputs": [
    {
     "data": {
      "text/plain": [
       "<matplotlib.collections.PathCollection at 0x7f6e29265eb8>"
      ]
     },
     "execution_count": 68,
     "metadata": {},
     "output_type": "execute_result"
    },
    {
     "data": {
      "image/png": "[encoded data removed]",
      "text/plain": [
       "<Figure size 432x288 with 1 Axes>"
      ]
     },
     "metadata": {
      "needs_background": "light"
     },
     "output_type": "display_data"
    }
   ],
   "source": [
    "plt.scatter(lojas[:,1], lojas[:,0], c = pred_y)\n",
    "plt.grid()\n",
    "plt.scatter(kmeans.cluster_centers_[:,1], kmeans.cluster_centers_[:,0], c = 'red')"
   ]
  },
  {
   "cell_type": "code",
   "execution_count": 84,
   "id": "suspended-wrong",
   "metadata": {},
   "outputs": [
    {
     "name": "stdout",
     "output_type": "stream",
     "text": [
      "[2628.4210526315787, 1359.8666666666666, 525.3333333333334, 365.0952380952381, 235.42857142857144, 178.16666666666666, 147.33333333333334, 122.96666666666668, 103.36666666666666, 60.0]\n"
     ]
    }
   ],
   "source": [
    "# metodo de elbow\n",
    "\n",
    "erros = []\n",
    "\n",
    "for i in range(1,11):\n",
    "    kmeans = KMeans(n_clusters=i, init='random')\n",
    "    kmeans.fit(lojas)\n",
    "    erros.append(kmeans.inertia_)\n",
    "\n",
    "print(erros)"
   ]
  },
  {
   "cell_type": "code",
   "execution_count": 86,
   "id": "attempted-flesh",
   "metadata": {},
   "outputs": [
    {
     "data": {
      "image/png": "[encoded data removed]",
      "text/plain": [
       "<Figure size 432x288 with 1 Axes>"
      ]
     },
     "metadata": {
      "needs_background": "light"
     },
     "output_type": "display_data"
    }
   ],
   "source": [
    "plt.plot(range(1,11), erros)\n",
    "plt.title('Metodo Elbow')\n",
    "plt.xlabel('Numero de Clusters')\n",
    "plt.ylabel('Erros')\n",
    "plt.show()"
   ]
  },
  {
   "cell_type": "code",
   "execution_count": null,
   "id": "radical-jurisdiction",
   "metadata": {},
   "outputs": [],
   "source": []
  }
 ],
 "metadata": {
  "kernelspec": {
   "display_name": "Python 3",
   "language": "python",
   "name": "python3"
  },
  "language_info": {
   "codemirror_mode": {
    "name": "ipython",
    "version": 3
   },
   "file_extension": ".py",
   "mimetype": "text/x-python",
   "name": "python",
   "nbconvert_exporter": "python",
   "pygments_lexer": "ipython3",
   "version": "3.6.9"
  }
 },
 "nbformat": 4,
 "nbformat_minor": 5
}
